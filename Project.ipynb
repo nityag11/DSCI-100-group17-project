{
 "cells": [
  {
   "cell_type": "markdown",
   "id": "c3928737-61b2-4183-b195-f03d4571d45d",
   "metadata": {},
   "source": [
    "# Group 17 Project (Section 007)\n",
    "### Title: Predicting diabetes based on demographic attributes, medical history, and clinical measurements\n",
    "\n",
    "Darby Quinn #19752633 <br>\n",
    "Manav Parikh #13928775 <br>\n",
    "Nitya Goel #89433221 <br>\n",
    "Reeva Bansal #68061514 <br>"
   ]
  },
  {
   "cell_type": "markdown",
   "id": "b1cec637-87d5-494c-87ed-d24f4379e77e",
   "metadata": {},
   "source": [
    "#### Introduction\n",
    "\n",
    "Diabetes is a condition where the body has issues processing and producing insulin that affects people of all ages. This can cause serious problems such as heart disease, vision loss, and kidney disease. Certain medical factors (e.g. BMI, age, insulin and glucose levels) can help predict whether an individual is likely to have or develop diabetes. \n",
    "\n",
    "The question we are answering is: **Can we classify whether or not someone has diabetes based on their blood pressure, BMI and age?**\n",
    "\n",
    "The dataset we are using to answer this question is a Diabetes dataset found on Kaggle with nine different columns: pregnancies; blood glucose; blood pressure (BP); skin thickness; blood insulinl; body mass index (BMI); diabetes pedigree; age; and outcome. This dataset is pre-divided into training and testing data."
   ]
  },
  {
   "cell_type": "code",
   "execution_count": null,
   "id": "961a38d2-7b8c-4e17-a104-a1fbc2c649cd",
   "metadata": {},
   "outputs": [],
   "source": []
  }
 ],
 "metadata": {
  "kernelspec": {
   "display_name": "R",
   "language": "R",
   "name": "ir"
  },
  "language_info": {
   "codemirror_mode": "r",
   "file_extension": ".r",
   "mimetype": "text/x-r-source",
   "name": "R",
   "pygments_lexer": "r",
   "version": "4.3.1"
  }
 },
 "nbformat": 4,
 "nbformat_minor": 5
}
