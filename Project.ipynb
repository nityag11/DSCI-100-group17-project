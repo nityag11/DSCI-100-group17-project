{
 "cells": [
  {
   "cell_type": "markdown",
   "id": "d2228a11",
   "metadata": {},
   "source": [
    "# Group 17 DSCI Project (Section 007)\n",
    "### Title: Predicting diabetes based on demographic attributes, medical history, and clinical measurements\n",
    "\n",
    "Darby Quinn #19752633 <br>\n",
    "Manav Parikh #13928775 <br>\n",
    "Nitya Goel #89433221 <br>\n",
    "Reeva Bansal #68061514 <br>"
   ]
  },
  {
   "cell_type": "markdown",
   "id": "ae79281b",
   "metadata": {},
   "source": [
    "#### Introduction\n",
    "\n",
    "Diabetes is a condition where the body has issues processing and producing insulin that affects people of all ages. This can cause serious problems such as heart disease, vision loss, and kidney disease. Certain medical factors (e.g. BMI, age, insulin and glucose levels) can help predict whether an individual is likely to have or develop diabetes. \n",
    "\n",
    "The question we are answering is: **Can we classify whether or not someone has diabetes based on their blood pressure, BMI and age?**\n",
    "\n",
    "The dataset we are using to answer this question is a Diabetes dataset found on Kaggle with nine different columns: pregnancies; blood glucose; blood pressure (BP); skin thickness; blood insulinl; body mass index (BMI); diabetes pedigree; age; and outcome. This dataset is pre-divided into training and testing data."
   ]
  },
  {
   "cell_type": "code",
   "execution_count": 7,
   "id": "e28eb0e3-e6d7-4329-9508-cb15a6862dce",
   "metadata": {},
   "outputs": [],
   "source": [
    "# loading libraries needed to create tables and visualizations \n",
    "library(tidyverse)\n",
    "library(dplyr)"
   ]
  },
  {
   "cell_type": "code",
   "execution_count": null,
   "id": "678952bf-2524-4345-822f-dd9d3138eb61",
   "metadata": {},
   "outputs": [],
   "source": []
  }
 ],
 "metadata": {
  "kernelspec": {
   "display_name": "R",
   "language": "R",
   "name": "ir"
  },
  "language_info": {
   "codemirror_mode": "r",
   "file_extension": ".r",
   "mimetype": "text/x-r-source",
   "name": "R",
   "pygments_lexer": "r",
   "version": "4.3.1"
  }
 },
 "nbformat": 4,
 "nbformat_minor": 5
}
