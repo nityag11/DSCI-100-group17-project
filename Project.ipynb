{
 "cells": [
  {
   "cell_type": "markdown",
   "id": "d2228a11",
   "metadata": {},
   "source": [
    "# Group 17 DSCI Project (Section 007)\n",
    "### Title: Predicting diabetes based on demographic attributes, medical history, and clinical measurements\n",
    "\n",
    "Darby Quinn #19752633 <br>\n",
    "Manav Parikh #13928775 <br>\n",
    "Nitya Goel #89433221 <br>\n",
    "Reeva Bansal #68061514 <br>"
   ]
  },
  {
   "cell_type": "markdown",
   "id": "ae79281b",
   "metadata": {},
   "source": [
    "#### Introduction\n",
    "\n",
    "Diabetes is a condition where the body has issues processing and producing insulin that affects people of all ages. This can cause serious problems such as heart disease, vision loss, and kidney disease. Certain medical factors (e.g. BMI, age, insulin and glucose levels) can help predict whether an individual is likely to have or develop diabetes. \n",
    "\n",
    "The question we are answering is: **Can we classify whether or not someone has diabetes based on their blood pressure, BMI and age?**\n",
    "\n",
    "The dataset we are using to answer this question is a Diabetes dataset found on Kaggle with nine different columns: pregnancies; blood glucose; blood pressure (BP); skin thickness; blood insulinl; body mass index (BMI); diabetes pedigree; age; and outcome. This dataset is pre-divided into training and testing data."
   ]
  },
  {
   "cell_type": "code",
   "execution_count": 21,
   "id": "6ae862b4-e148-450c-9923-2d102e3b73a2",
   "metadata": {},
   "outputs": [],
   "source": [
    "# loading libraries needed to perform analysis\n",
    "library(tidyverse)\n",
    "library(dplyr)\n",
    "library(repr)\n",
    "library(tidymodels)"
   ]
  },
  {
   "cell_type": "markdown",
   "id": "23814a0c-5fe5-41df-8573-832b2ed64a0b",
   "metadata": {},
   "source": [
    "#### Methods & Results"
   ]
  },
  {
   "cell_type": "markdown",
   "id": "f34c418b-d3ac-4865-8d77-dc5b2039d927",
   "metadata": {},
   "source": [
    "wrangles and cleans the data from it's original (downloaded) format to the format necessary for the planned analysis <br>\n",
    "performs a summary of the data set that is relevant for exploratory data analysis related to the planned analysis <br>\n",
    "creates a visualization of the dataset that is relevant for exploratory data analysis related to the planned analysis <br>\n",
    "performs the data analysis\n",
    "creates a visualization of the analysis <br>\n",
    "note: all tables and figure should have a figure/table number and a legend"
   ]
  },
  {
   "cell_type": "code",
   "execution_count": 22,
   "id": "2da78a9f-5155-46dc-9072-b2d188664348",
   "metadata": {},
   "outputs": [],
   "source": [
    "# reading in testing data\n",
    "url <- \"https://raw.githubusercontent.com/nityag11/DSCI-100-group17-project/main/Testing.csv\"\n",
    "download.file(url, \"Testing.csv\")\n",
    "testing_data <- read.csv(\"Testing.csv\")\n",
    "\n",
    "#reading in training data\n",
    "url <- \"https://raw.githubusercontent.com/nityag11/DSCI-100-group17-project/main/Training%20(1).csv\"\n",
    "download.file(url, \"Training%20(1).csv\")\n",
    "training_data <- read.csv(\"Training%20(1).csv\")"
   ]
  }
 ],
 "metadata": {
  "kernelspec": {
   "display_name": "R",
   "language": "R",
   "name": "ir"
  },
  "language_info": {
   "codemirror_mode": "r",
   "file_extension": ".r",
   "mimetype": "text/x-r-source",
   "name": "R",
   "pygments_lexer": "r",
   "version": "4.3.1"
  }
 },
 "nbformat": 4,
 "nbformat_minor": 5
}
