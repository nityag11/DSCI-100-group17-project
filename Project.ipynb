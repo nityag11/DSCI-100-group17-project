{
 "cells": [
  {
   "cell_type": "markdown",
   "id": "d2228a11",
   "metadata": {},
   "source": [
    "# Group 17 DSCI Project (Section 007)\n",
    "### Predicting diabetes based on demographic attributes, medical history, and clinical measurements\n",
    "\n",
    "Darby Quinn #19752633 <br>\n",
    "Manav Parikh #13928775 <br>\n",
    "Nitya Goel #89433221 <br>\n",
    "Reeva Bansal #68061514 <br>"
   ]
  },
  {
   "cell_type": "markdown",
   "id": "ae79281b",
   "metadata": {},
   "source": [
    "#### Introduction\n",
    "\n",
    "Diabetes is a common condition that affects people of all ages. In individuals with diabetes, the body either doesn't make enough insulin or can’t use insulin properly. This can cause serious health problems such as heart disease, vision loss, kidney disease and high blood pressure (BP). There are certain medical factors (e.g. BMI, age, insulin and glucose levels) that can help predict whether an individual is likely to have or develop diabetes. Using these factors and making predictions on whether someone has diabetes can help ensure that proper precautions are taken or treatments are administered to manage the negative short and long term effects of diabetes.\n",
    "\n",
    "The question we are answering is: **Can we classify whether or not someone has diabetes based on their blood pressure, BMI and age?**\n",
    "\n",
    "The dataset we are using to answer this question is a Diabetes dataset with nine different columns: number of pregnancies; blood glucose level; BP; skin thickness; blood insulin level; BMI; diabetes pedigree function; age; and outcome. This dataset is pre-divided into training and testing data, and has previously been useful in using classification to predict diabetes outcome, as well as studying risk factors and diabetes management. "
   ]
  },
  {
   "cell_type": "code",
   "execution_count": 24,
   "id": "6ae862b4-e148-450c-9923-2d102e3b73a2",
   "metadata": {},
   "outputs": [],
   "source": [
    "# loading libraries needed to perform analysis\n",
    "library(tidyverse)\n",
    "library(dplyr)\n",
    "library(repr)\n",
    "library(tidymodels)"
   ]
  },
  {
   "cell_type": "markdown",
   "id": "23814a0c-5fe5-41df-8573-832b2ed64a0b",
   "metadata": {},
   "source": [
    "#### Methods & Results"
   ]
  },
  {
   "cell_type": "code",
   "execution_count": 28,
   "id": "2da78a9f-5155-46dc-9072-b2d188664348",
   "metadata": {},
   "outputs": [
    {
     "data": {
      "text/html": [
       "<table class=\"dataframe\">\n",
       "<caption>A data.frame: 6 × 9</caption>\n",
       "<thead>\n",
       "\t<tr><th></th><th scope=col>Pregnancies</th><th scope=col>Glucose</th><th scope=col>BloodPressure</th><th scope=col>SkinThickness</th><th scope=col>Insulin</th><th scope=col>BMI</th><th scope=col>DiabetesPedigreeFunction</th><th scope=col>Age</th><th scope=col>Outcome</th></tr>\n",
       "\t<tr><th></th><th scope=col>&lt;int&gt;</th><th scope=col>&lt;int&gt;</th><th scope=col>&lt;int&gt;</th><th scope=col>&lt;int&gt;</th><th scope=col>&lt;int&gt;</th><th scope=col>&lt;dbl&gt;</th><th scope=col>&lt;dbl&gt;</th><th scope=col>&lt;int&gt;</th><th scope=col>&lt;int&gt;</th></tr>\n",
       "</thead>\n",
       "<tbody>\n",
       "\t<tr><th scope=row>1</th><td>6</td><td>148</td><td>72</td><td>35</td><td>  0</td><td>33.6</td><td>0.627</td><td>50</td><td>1</td></tr>\n",
       "\t<tr><th scope=row>2</th><td>1</td><td> 85</td><td>66</td><td>29</td><td>  0</td><td>26.6</td><td>0.351</td><td>31</td><td>0</td></tr>\n",
       "\t<tr><th scope=row>3</th><td>8</td><td>183</td><td>64</td><td> 0</td><td>  0</td><td>23.3</td><td>0.672</td><td>32</td><td>1</td></tr>\n",
       "\t<tr><th scope=row>4</th><td>1</td><td> 89</td><td>66</td><td>23</td><td> 94</td><td>28.1</td><td>0.167</td><td>21</td><td>0</td></tr>\n",
       "\t<tr><th scope=row>5</th><td>0</td><td>137</td><td>40</td><td>35</td><td>168</td><td>43.1</td><td>2.288</td><td>33</td><td>1</td></tr>\n",
       "\t<tr><th scope=row>6</th><td>5</td><td>116</td><td>74</td><td> 0</td><td>  0</td><td>25.6</td><td>0.201</td><td>30</td><td>0</td></tr>\n",
       "</tbody>\n",
       "</table>\n"
      ],
      "text/latex": [
       "A data.frame: 6 × 9\n",
       "\\begin{tabular}{r|lllllllll}\n",
       "  & Pregnancies & Glucose & BloodPressure & SkinThickness & Insulin & BMI & DiabetesPedigreeFunction & Age & Outcome\\\\\n",
       "  & <int> & <int> & <int> & <int> & <int> & <dbl> & <dbl> & <int> & <int>\\\\\n",
       "\\hline\n",
       "\t1 & 6 & 148 & 72 & 35 &   0 & 33.6 & 0.627 & 50 & 1\\\\\n",
       "\t2 & 1 &  85 & 66 & 29 &   0 & 26.6 & 0.351 & 31 & 0\\\\\n",
       "\t3 & 8 & 183 & 64 &  0 &   0 & 23.3 & 0.672 & 32 & 1\\\\\n",
       "\t4 & 1 &  89 & 66 & 23 &  94 & 28.1 & 0.167 & 21 & 0\\\\\n",
       "\t5 & 0 & 137 & 40 & 35 & 168 & 43.1 & 2.288 & 33 & 1\\\\\n",
       "\t6 & 5 & 116 & 74 &  0 &   0 & 25.6 & 0.201 & 30 & 0\\\\\n",
       "\\end{tabular}\n"
      ],
      "text/markdown": [
       "\n",
       "A data.frame: 6 × 9\n",
       "\n",
       "| <!--/--> | Pregnancies &lt;int&gt; | Glucose &lt;int&gt; | BloodPressure &lt;int&gt; | SkinThickness &lt;int&gt; | Insulin &lt;int&gt; | BMI &lt;dbl&gt; | DiabetesPedigreeFunction &lt;dbl&gt; | Age &lt;int&gt; | Outcome &lt;int&gt; |\n",
       "|---|---|---|---|---|---|---|---|---|---|\n",
       "| 1 | 6 | 148 | 72 | 35 |   0 | 33.6 | 0.627 | 50 | 1 |\n",
       "| 2 | 1 |  85 | 66 | 29 |   0 | 26.6 | 0.351 | 31 | 0 |\n",
       "| 3 | 8 | 183 | 64 |  0 |   0 | 23.3 | 0.672 | 32 | 1 |\n",
       "| 4 | 1 |  89 | 66 | 23 |  94 | 28.1 | 0.167 | 21 | 0 |\n",
       "| 5 | 0 | 137 | 40 | 35 | 168 | 43.1 | 2.288 | 33 | 1 |\n",
       "| 6 | 5 | 116 | 74 |  0 |   0 | 25.6 | 0.201 | 30 | 0 |\n",
       "\n"
      ],
      "text/plain": [
       "  Pregnancies Glucose BloodPressure SkinThickness Insulin BMI \n",
       "1 6           148     72            35              0     33.6\n",
       "2 1            85     66            29              0     26.6\n",
       "3 8           183     64             0              0     23.3\n",
       "4 1            89     66            23             94     28.1\n",
       "5 0           137     40            35            168     43.1\n",
       "6 5           116     74             0              0     25.6\n",
       "  DiabetesPedigreeFunction Age Outcome\n",
       "1 0.627                    50  1      \n",
       "2 0.351                    31  0      \n",
       "3 0.672                    32  1      \n",
       "4 0.167                    21  0      \n",
       "5 2.288                    33  1      \n",
       "6 0.201                    30  0      "
      ]
     },
     "metadata": {},
     "output_type": "display_data"
    },
    {
     "data": {
      "text/html": [
       "<table class=\"dataframe\">\n",
       "<caption>A data.frame: 6 × 9</caption>\n",
       "<thead>\n",
       "\t<tr><th></th><th scope=col>Pregnancies</th><th scope=col>Glucose</th><th scope=col>BloodPressure</th><th scope=col>SkinThickness</th><th scope=col>Insulin</th><th scope=col>BMI</th><th scope=col>DiabetesPedigreeFunction</th><th scope=col>Age</th><th scope=col>Outcome</th></tr>\n",
       "\t<tr><th></th><th scope=col>&lt;int&gt;</th><th scope=col>&lt;int&gt;</th><th scope=col>&lt;int&gt;</th><th scope=col>&lt;int&gt;</th><th scope=col>&lt;int&gt;</th><th scope=col>&lt;dbl&gt;</th><th scope=col>&lt;dbl&gt;</th><th scope=col>&lt;int&gt;</th><th scope=col>&lt;int&gt;</th></tr>\n",
       "</thead>\n",
       "<tbody>\n",
       "\t<tr><th scope=row>1</th><td> 9</td><td>120</td><td>72</td><td>22</td><td> 56</td><td>20.8</td><td>0.733</td><td>48</td><td>0</td></tr>\n",
       "\t<tr><th scope=row>2</th><td> 1</td><td> 71</td><td>62</td><td> 0</td><td>  0</td><td>21.8</td><td>0.416</td><td>26</td><td>0</td></tr>\n",
       "\t<tr><th scope=row>3</th><td> 8</td><td> 74</td><td>70</td><td>40</td><td> 49</td><td>35.3</td><td>0.705</td><td>39</td><td>0</td></tr>\n",
       "\t<tr><th scope=row>4</th><td> 5</td><td> 88</td><td>78</td><td>30</td><td>  0</td><td>27.6</td><td>0.258</td><td>37</td><td>0</td></tr>\n",
       "\t<tr><th scope=row>5</th><td>10</td><td>115</td><td>98</td><td> 0</td><td>  0</td><td>24.0</td><td>1.022</td><td>34</td><td>0</td></tr>\n",
       "\t<tr><th scope=row>6</th><td> 0</td><td>124</td><td>56</td><td>13</td><td>105</td><td>21.8</td><td>0.452</td><td>21</td><td>0</td></tr>\n",
       "</tbody>\n",
       "</table>\n"
      ],
      "text/latex": [
       "A data.frame: 6 × 9\n",
       "\\begin{tabular}{r|lllllllll}\n",
       "  & Pregnancies & Glucose & BloodPressure & SkinThickness & Insulin & BMI & DiabetesPedigreeFunction & Age & Outcome\\\\\n",
       "  & <int> & <int> & <int> & <int> & <int> & <dbl> & <dbl> & <int> & <int>\\\\\n",
       "\\hline\n",
       "\t1 &  9 & 120 & 72 & 22 &  56 & 20.8 & 0.733 & 48 & 0\\\\\n",
       "\t2 &  1 &  71 & 62 &  0 &   0 & 21.8 & 0.416 & 26 & 0\\\\\n",
       "\t3 &  8 &  74 & 70 & 40 &  49 & 35.3 & 0.705 & 39 & 0\\\\\n",
       "\t4 &  5 &  88 & 78 & 30 &   0 & 27.6 & 0.258 & 37 & 0\\\\\n",
       "\t5 & 10 & 115 & 98 &  0 &   0 & 24.0 & 1.022 & 34 & 0\\\\\n",
       "\t6 &  0 & 124 & 56 & 13 & 105 & 21.8 & 0.452 & 21 & 0\\\\\n",
       "\\end{tabular}\n"
      ],
      "text/markdown": [
       "\n",
       "A data.frame: 6 × 9\n",
       "\n",
       "| <!--/--> | Pregnancies &lt;int&gt; | Glucose &lt;int&gt; | BloodPressure &lt;int&gt; | SkinThickness &lt;int&gt; | Insulin &lt;int&gt; | BMI &lt;dbl&gt; | DiabetesPedigreeFunction &lt;dbl&gt; | Age &lt;int&gt; | Outcome &lt;int&gt; |\n",
       "|---|---|---|---|---|---|---|---|---|---|\n",
       "| 1 |  9 | 120 | 72 | 22 |  56 | 20.8 | 0.733 | 48 | 0 |\n",
       "| 2 |  1 |  71 | 62 |  0 |   0 | 21.8 | 0.416 | 26 | 0 |\n",
       "| 3 |  8 |  74 | 70 | 40 |  49 | 35.3 | 0.705 | 39 | 0 |\n",
       "| 4 |  5 |  88 | 78 | 30 |   0 | 27.6 | 0.258 | 37 | 0 |\n",
       "| 5 | 10 | 115 | 98 |  0 |   0 | 24.0 | 1.022 | 34 | 0 |\n",
       "| 6 |  0 | 124 | 56 | 13 | 105 | 21.8 | 0.452 | 21 | 0 |\n",
       "\n"
      ],
      "text/plain": [
       "  Pregnancies Glucose BloodPressure SkinThickness Insulin BMI \n",
       "1  9          120     72            22             56     20.8\n",
       "2  1           71     62             0              0     21.8\n",
       "3  8           74     70            40             49     35.3\n",
       "4  5           88     78            30              0     27.6\n",
       "5 10          115     98             0              0     24.0\n",
       "6  0          124     56            13            105     21.8\n",
       "  DiabetesPedigreeFunction Age Outcome\n",
       "1 0.733                    48  0      \n",
       "2 0.416                    26  0      \n",
       "3 0.705                    39  0      \n",
       "4 0.258                    37  0      \n",
       "5 1.022                    34  0      \n",
       "6 0.452                    21  0      "
      ]
     },
     "metadata": {},
     "output_type": "display_data"
    }
   ],
   "source": [
    "#reading in training data\n",
    "url <- \"https://raw.githubusercontent.com/nityag11/DSCI-100-group17-project/main/Training%20(1).csv\"\n",
    "download.file(url, \"Training%20(1).csv\")\n",
    "training_data <- read.csv(\"Training%20(1).csv\")\n",
    "head(training_data)\n",
    "\n",
    "# reading in testing data\n",
    "url <- \"https://raw.githubusercontent.com/nityag11/DSCI-100-group17-project/main/Testing.csv\"\n",
    "download.file(url, \"Testing.csv\")\n",
    "testing_data <- read.csv(\"Testing.csv\")\n",
    "head(testing_data)"
   ]
  },
  {
   "cell_type": "code",
   "execution_count": 37,
   "id": "11ce25a1-fa98-453a-8e86-5c1bbf19ac92",
   "metadata": {},
   "outputs": [
    {
     "name": "stderr",
     "output_type": "stream",
     "text": [
      "Warning message:\n",
      "“\u001b[1m\u001b[22mThere was 1 warning in `mutate()`.\n",
      "\u001b[1m\u001b[22m\u001b[36mℹ\u001b[39m In argument: `Outcome = fct_recode(Outcome, Yes = \"1\", No = \"0\")`.\n",
      "Caused by warning:\n",
      "\u001b[33m!\u001b[39m Unknown levels in `f`: 1, 0”\n"
     ]
    },
    {
     "data": {
      "text/html": [
       "<table class=\"dataframe\">\n",
       "<caption>A data.frame: 6 × 4</caption>\n",
       "<thead>\n",
       "\t<tr><th></th><th scope=col>BMI</th><th scope=col>Blood_Pressure</th><th scope=col>Age</th><th scope=col>Diabetes_Outcome</th></tr>\n",
       "\t<tr><th></th><th scope=col>&lt;dbl&gt;</th><th scope=col>&lt;int&gt;</th><th scope=col>&lt;int&gt;</th><th scope=col>&lt;fct&gt;</th></tr>\n",
       "</thead>\n",
       "<tbody>\n",
       "\t<tr><th scope=row>1</th><td>33.6</td><td>72</td><td>50</td><td>Yes</td></tr>\n",
       "\t<tr><th scope=row>2</th><td>26.6</td><td>66</td><td>31</td><td>No </td></tr>\n",
       "\t<tr><th scope=row>3</th><td>23.3</td><td>64</td><td>32</td><td>Yes</td></tr>\n",
       "\t<tr><th scope=row>4</th><td>28.1</td><td>66</td><td>21</td><td>No </td></tr>\n",
       "\t<tr><th scope=row>5</th><td>43.1</td><td>40</td><td>33</td><td>Yes</td></tr>\n",
       "\t<tr><th scope=row>6</th><td>25.6</td><td>74</td><td>30</td><td>No </td></tr>\n",
       "</tbody>\n",
       "</table>\n"
      ],
      "text/latex": [
       "A data.frame: 6 × 4\n",
       "\\begin{tabular}{r|llll}\n",
       "  & BMI & Blood\\_Pressure & Age & Diabetes\\_Outcome\\\\\n",
       "  & <dbl> & <int> & <int> & <fct>\\\\\n",
       "\\hline\n",
       "\t1 & 33.6 & 72 & 50 & Yes\\\\\n",
       "\t2 & 26.6 & 66 & 31 & No \\\\\n",
       "\t3 & 23.3 & 64 & 32 & Yes\\\\\n",
       "\t4 & 28.1 & 66 & 21 & No \\\\\n",
       "\t5 & 43.1 & 40 & 33 & Yes\\\\\n",
       "\t6 & 25.6 & 74 & 30 & No \\\\\n",
       "\\end{tabular}\n"
      ],
      "text/markdown": [
       "\n",
       "A data.frame: 6 × 4\n",
       "\n",
       "| <!--/--> | BMI &lt;dbl&gt; | Blood_Pressure &lt;int&gt; | Age &lt;int&gt; | Diabetes_Outcome &lt;fct&gt; |\n",
       "|---|---|---|---|---|\n",
       "| 1 | 33.6 | 72 | 50 | Yes |\n",
       "| 2 | 26.6 | 66 | 31 | No  |\n",
       "| 3 | 23.3 | 64 | 32 | Yes |\n",
       "| 4 | 28.1 | 66 | 21 | No  |\n",
       "| 5 | 43.1 | 40 | 33 | Yes |\n",
       "| 6 | 25.6 | 74 | 30 | No  |\n",
       "\n"
      ],
      "text/plain": [
       "  BMI  Blood_Pressure Age Diabetes_Outcome\n",
       "1 33.6 72             50  Yes             \n",
       "2 26.6 66             31  No              \n",
       "3 23.3 64             32  Yes             \n",
       "4 28.1 66             21  No              \n",
       "5 43.1 40             33  Yes             \n",
       "6 25.6 74             30  No              "
      ]
     },
     "metadata": {},
     "output_type": "display_data"
    }
   ],
   "source": [
    "training_data <- training_data |>\n",
    "    mutate(training_data, Outcome = as_factor(Outcome)) |>\n",
    "    mutate(Outcome = fct_recode(Outcome, \"Yes\" = \"1\", \"No\" = \"0\")) |>\n",
    "    select(BMI, BloodPressure, Age, Outcome) |>\n",
    "    rename(Diabetes_Outcome = Outcome, Blood_Pressure = BloodPressure)\n",
    "head(training_data)"
   ]
  },
  {
   "cell_type": "code",
   "execution_count": null,
   "id": "e4a13651-90dc-4a34-86a0-56fd056eb7cc",
   "metadata": {},
   "outputs": [],
   "source": []
  }
 ],
 "metadata": {
  "kernelspec": {
   "display_name": "R",
   "language": "R",
   "name": "ir"
  },
  "language_info": {
   "codemirror_mode": "r",
   "file_extension": ".r",
   "mimetype": "text/x-r-source",
   "name": "R",
   "pygments_lexer": "r",
   "version": "4.3.1"
  }
 },
 "nbformat": 4,
 "nbformat_minor": 5
}
