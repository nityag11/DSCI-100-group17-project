{
 "cells": [
  {
   "cell_type": "markdown",
   "id": "c3928737-61b2-4183-b195-f03d4571d45d",
   "metadata": {},
   "source": [
    "# Group 17 Project (Section 007)\n",
    "### Title: Predicting diabetes based on demographic attributes, medical history, and clinical measurements\n",
    "\n",
    "Darby Quinn #19752633 <br>\n",
    "Manav Parikh #13928775 <br>\n",
    "Nitya Goel #89433221 <br>\n",
    "Reeva Bansal #68061514 <br>"
   ]
  },
  {
   "cell_type": "code",
   "execution_count": null,
   "id": "66229005-26ab-48e6-88a7-32fcdedf98f7",
   "metadata": {},
   "outputs": [],
   "source": []
  }
 ],
 "metadata": {
  "kernelspec": {
   "display_name": "R",
   "language": "R",
   "name": "ir"
  },
  "language_info": {
   "codemirror_mode": "r",
   "file_extension": ".r",
   "mimetype": "text/x-r-source",
   "name": "R",
   "pygments_lexer": "r",
   "version": "4.3.1"
  }
 },
 "nbformat": 4,
 "nbformat_minor": 5
}
