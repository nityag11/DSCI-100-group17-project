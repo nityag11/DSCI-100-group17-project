{
 "cells": [
  {
   "cell_type": "markdown",
   "id": "d2228a11",
   "metadata": {},
   "source": [
    "# Group 17 DSCI Project (Section 007)\n",
    "### Title: Predicting diabetes based on demographic attributes, medical history, and clinical measurements\n",
    "\n",
    "Darby Quinn #19752633 <br>\n",
    "Manav Parikh #13928775 <br>\n",
    "Nitya Goel #89433221 <br>\n",
    "Reeva Bansal #68061514 <br>"
   ]
  },
  {
   "cell_type": "markdown",
   "id": "ae79281b",
   "metadata": {},
   "source": [
    "#### Introduction\n",
    "\n",
    "Diabetes is a condition where the body has issues processing and producing insulin that affects people of all ages. This can cause serious problems such as heart disease, vision loss, and kidney disease. Certain medical factors (e.g. BMI, age, insulin and glucose levels) can help predict whether an individual is likely to have or develop diabetes. \n",
    "\n",
    "The question we are answering is: **Can we classify whether or not someone has diabetes based on their blood pressure, BMI and age?**\n",
    "\n",
    "The dataset we are using to answer this question is a Diabetes dataset found on Kaggle with nine different columns: pregnancies; blood glucose; blood pressure (BP); skin thickness; blood insulinl; body mass index (BMI); diabetes pedigree; age; and outcome. This dataset is pre-divided into training and testing data."
   ]
  },
  {
   "cell_type": "code",
   "execution_count": 2,
   "id": "6ae862b4-e148-450c-9923-2d102e3b73a2",
   "metadata": {},
   "outputs": [
    {
     "name": "stderr",
     "output_type": "stream",
     "text": [
      "Warning message:\n",
      "“package ‘ggplot2’ was built under R version 4.3.2”\n",
      "── \u001b[1mAttaching core tidyverse packages\u001b[22m ──────────────────────── tidyverse 2.0.0 ──\n",
      "\u001b[32m✔\u001b[39m \u001b[34mdplyr    \u001b[39m 1.1.3     \u001b[32m✔\u001b[39m \u001b[34mreadr    \u001b[39m 2.1.4\n",
      "\u001b[32m✔\u001b[39m \u001b[34mforcats  \u001b[39m 1.0.0     \u001b[32m✔\u001b[39m \u001b[34mstringr  \u001b[39m 1.5.0\n",
      "\u001b[32m✔\u001b[39m \u001b[34mggplot2  \u001b[39m 3.5.0     \u001b[32m✔\u001b[39m \u001b[34mtibble   \u001b[39m 3.2.1\n",
      "\u001b[32m✔\u001b[39m \u001b[34mlubridate\u001b[39m 1.9.2     \u001b[32m✔\u001b[39m \u001b[34mtidyr    \u001b[39m 1.3.0\n",
      "\u001b[32m✔\u001b[39m \u001b[34mpurrr    \u001b[39m 1.0.2     \n",
      "── \u001b[1mConflicts\u001b[22m ────────────────────────────────────────── tidyverse_conflicts() ──\n",
      "\u001b[31m✖\u001b[39m \u001b[34mdplyr\u001b[39m::\u001b[32mfilter()\u001b[39m masks \u001b[34mstats\u001b[39m::filter()\n",
      "\u001b[31m✖\u001b[39m \u001b[34mdplyr\u001b[39m::\u001b[32mlag()\u001b[39m    masks \u001b[34mstats\u001b[39m::lag()\n",
      "\u001b[36mℹ\u001b[39m Use the conflicted package (\u001b[3m\u001b[34m<http://conflicted.r-lib.org/>\u001b[39m\u001b[23m) to force all conflicts to become errors\n"
     ]
    }
   ],
   "source": [
    "# loading libraries needed to create tables and visualizations \n",
    "library(tidyverse)\n",
    "library(dplyr)"
   ]
  },
  {
   "cell_type": "markdown",
   "id": "23814a0c-5fe5-41df-8573-832b2ed64a0b",
   "metadata": {},
   "source": [
    "#### Methods & Results"
   ]
  },
  {
   "cell_type": "markdown",
   "id": "f34c418b-d3ac-4865-8d77-dc5b2039d927",
   "metadata": {},
   "source": [
    "loads data from the original source on the web <br>\n",
    "wrangles and cleans the data from it's original (downloaded) format to the format necessary for the planned analysis <br>\n",
    "performs a summary of the data set that is relevant for exploratory data analysis related to the planned analysis <br>\n",
    "creates a visualization of the dataset that is relevant for exploratory data analysis related to the planned analysis <br>\n",
    "performs the data analysis\n",
    "creates a visualization of the analysis <br>\n",
    "note: all tables and figure should have a figure/table number and a legend"
   ]
  },
  {
   "cell_type": "markdown",
   "id": "36c13ce8-66f6-4e38-86ba-52da77e9b89d",
   "metadata": {},
   "source": [
    "https://www.kaggle.com/datasets/ehababoelnaga/diabetes-dataset/data"
   ]
  },
  {
   "cell_type": "code",
   "execution_count": null,
   "id": "2da78a9f-5155-46dc-9072-b2d188664348",
   "metadata": {},
   "outputs": [],
   "source": []
  }
 ],
 "metadata": {
  "kernelspec": {
   "display_name": "R",
   "language": "R",
   "name": "ir"
  },
  "language_info": {
   "codemirror_mode": "r",
   "file_extension": ".r",
   "mimetype": "text/x-r-source",
   "name": "R",
   "pygments_lexer": "r",
   "version": "4.3.1"
  }
 },
 "nbformat": 4,
 "nbformat_minor": 5
}
