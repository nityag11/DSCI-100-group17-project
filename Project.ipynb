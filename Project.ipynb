{
 "cells": [
  {
   "cell_type": "markdown",
   "id": "d2228a11",
   "metadata": {},
   "source": [
    "# Group 17 DSCI Project (Section 007)\n",
    "### Predicting diabetes based on demographic attributes, medical history, and clinical measurements\n",
    "\n",
    "Darby Quinn #19752633 <br>\n",
    "Manav Parikh #13928775 <br>\n",
    "Nitya Goel #89433221 <br>\n",
    "Reeva Bansal #68061514 <br>"
   ]
  },
  {
   "cell_type": "markdown",
   "id": "ae79281b",
   "metadata": {},
   "source": [
    "### Introduction\n",
    "\n",
    "Diabetes is a common condition that affects people of all ages. In individuals with diabetes, the body either doesn't make enough insulin or can’t use insulin properly. This can cause serious health problems such as heart disease, vision loss, kidney disease and high blood pressure (BP). There are certain medical factors (e.g. BMI, age, insulin and glucose levels) that can help predict whether an individual is likely to have or develop diabetes. Using these factors and making predictions on whether someone has diabetes can help ensure that proper precautions are taken or treatments are administered to manage the negative short and long term effects of diabetes.\n",
    "\n",
    "The question we are answering is: **Can we classify whether or not someone has diabetes based on their blood pressure, BMI and age?**\n",
    "\n",
    "The dataset we are using to answer this question is a Diabetes dataset from the online website Kaggle with nine different columns: number of pregnancies; blood glucose level; BP; skin thickness; blood insulin level; BMI; diabetes pedigree function; age; and outcome. It is a .csv file that is pre-divided into training and testing data, with no missing values. The dataset has previously been useful in using classification to predict diabetes outcome, as well as studying risk factors and diabetes management. "
   ]
  },
  {
   "cell_type": "code",
   "execution_count": 1,
   "id": "6ae862b4-e148-450c-9923-2d102e3b73a2",
   "metadata": {},
   "outputs": [
    {
     "name": "stderr",
     "output_type": "stream",
     "text": [
      "Warning message:\n",
      "“package ‘ggplot2’ was built under R version 4.3.2”\n",
      "── \u001b[1mAttaching core tidyverse packages\u001b[22m ──────────────────────── tidyverse 2.0.0 ──\n",
      "\u001b[32m✔\u001b[39m \u001b[34mdplyr    \u001b[39m 1.1.3     \u001b[32m✔\u001b[39m \u001b[34mreadr    \u001b[39m 2.1.4\n",
      "\u001b[32m✔\u001b[39m \u001b[34mforcats  \u001b[39m 1.0.0     \u001b[32m✔\u001b[39m \u001b[34mstringr  \u001b[39m 1.5.0\n",
      "\u001b[32m✔\u001b[39m \u001b[34mggplot2  \u001b[39m 3.5.0     \u001b[32m✔\u001b[39m \u001b[34mtibble   \u001b[39m 3.2.1\n",
      "\u001b[32m✔\u001b[39m \u001b[34mlubridate\u001b[39m 1.9.2     \u001b[32m✔\u001b[39m \u001b[34mtidyr    \u001b[39m 1.3.0\n",
      "\u001b[32m✔\u001b[39m \u001b[34mpurrr    \u001b[39m 1.0.2     \n",
      "── \u001b[1mConflicts\u001b[22m ────────────────────────────────────────── tidyverse_conflicts() ──\n",
      "\u001b[31m✖\u001b[39m \u001b[34mdplyr\u001b[39m::\u001b[32mfilter()\u001b[39m masks \u001b[34mstats\u001b[39m::filter()\n",
      "\u001b[31m✖\u001b[39m \u001b[34mdplyr\u001b[39m::\u001b[32mlag()\u001b[39m    masks \u001b[34mstats\u001b[39m::lag()\n",
      "\u001b[36mℹ\u001b[39m Use the conflicted package (\u001b[3m\u001b[34m<http://conflicted.r-lib.org/>\u001b[39m\u001b[23m) to force all conflicts to become errors\n",
      "── \u001b[1mAttaching packages\u001b[22m ────────────────────────────────────── tidymodels 1.1.1 ──\n",
      "\n",
      "\u001b[32m✔\u001b[39m \u001b[34mbroom       \u001b[39m 1.0.5     \u001b[32m✔\u001b[39m \u001b[34mrsample     \u001b[39m 1.2.0\n",
      "\u001b[32m✔\u001b[39m \u001b[34mdials       \u001b[39m 1.2.0     \u001b[32m✔\u001b[39m \u001b[34mtune        \u001b[39m 1.1.2\n",
      "\u001b[32m✔\u001b[39m \u001b[34minfer       \u001b[39m 1.0.5     \u001b[32m✔\u001b[39m \u001b[34mworkflows   \u001b[39m 1.1.3\n",
      "\u001b[32m✔\u001b[39m \u001b[34mmodeldata   \u001b[39m 1.2.0     \u001b[32m✔\u001b[39m \u001b[34mworkflowsets\u001b[39m 1.0.1\n",
      "\u001b[32m✔\u001b[39m \u001b[34mparsnip     \u001b[39m 1.1.1     \u001b[32m✔\u001b[39m \u001b[34myardstick   \u001b[39m 1.2.0\n",
      "\u001b[32m✔\u001b[39m \u001b[34mrecipes     \u001b[39m 1.0.8     \n",
      "\n",
      "── \u001b[1mConflicts\u001b[22m ───────────────────────────────────────── tidymodels_conflicts() ──\n",
      "\u001b[31m✖\u001b[39m \u001b[34mscales\u001b[39m::\u001b[32mdiscard()\u001b[39m masks \u001b[34mpurrr\u001b[39m::discard()\n",
      "\u001b[31m✖\u001b[39m \u001b[34mdplyr\u001b[39m::\u001b[32mfilter()\u001b[39m   masks \u001b[34mstats\u001b[39m::filter()\n",
      "\u001b[31m✖\u001b[39m \u001b[34mrecipes\u001b[39m::\u001b[32mfixed()\u001b[39m  masks \u001b[34mstringr\u001b[39m::fixed()\n",
      "\u001b[31m✖\u001b[39m \u001b[34mdplyr\u001b[39m::\u001b[32mlag()\u001b[39m      masks \u001b[34mstats\u001b[39m::lag()\n",
      "\u001b[31m✖\u001b[39m \u001b[34myardstick\u001b[39m::\u001b[32mspec()\u001b[39m masks \u001b[34mreadr\u001b[39m::spec()\n",
      "\u001b[31m✖\u001b[39m \u001b[34mrecipes\u001b[39m::\u001b[32mstep()\u001b[39m   masks \u001b[34mstats\u001b[39m::step()\n",
      "\u001b[34m•\u001b[39m Use suppressPackageStartupMessages() to eliminate package startup messages\n",
      "\n"
     ]
    }
   ],
   "source": [
    "# loading libraries needed to perform classification and analysis\n",
    "library(tidyverse)\n",
    "library(dplyr)\n",
    "library(repr)\n",
    "library(tidymodels)"
   ]
  },
  {
   "cell_type": "markdown",
   "id": "23814a0c-5fe5-41df-8573-832b2ed64a0b",
   "metadata": {},
   "source": [
    "### Methods & Results"
   ]
  },
  {
   "cell_type": "markdown",
   "id": "61ca09bc-fa26-4047-b85b-06444b1a2023",
   "metadata": {},
   "source": [
    "The general procedure we will follow will be:\n",
    "1. Reading the data into R from the web\n",
    "2. Ensuring the data is in a tidy format\n",
    "3. Summarizing the data to select the predictor variables\n",
    "4. Perform exploratory data analysis and create a visualization\n",
    "5. Determining the best K-value to use by cross validation\n",
    "6. Creating the the K-nearest neighbors classifier with the training set \n",
    "7. Finalizing the model and recipe needed to train the classifier\n",
    "8. Determining the accuracy of the classifier"
   ]
  },
  {
   "cell_type": "markdown",
   "id": "627c9067-d994-46ec-9446-ffd190a9a6c1",
   "metadata": {},
   "source": [
    "#### 1. Reading the data into R from the web\n",
    "The data set is located on kaggle at https://www.kaggle.com/datasets/ehababoelnaga/diabetes-dataset/data. We will load the training and testing data into R using the download.file and read.csv functions, then display the first 6 observations of each set."
   ]
  },
  {
   "cell_type": "code",
   "execution_count": 7,
   "id": "2da78a9f-5155-46dc-9072-b2d188664348",
   "metadata": {},
   "outputs": [
    {
     "data": {
      "text/html": [
       "<table class=\"dataframe\">\n",
       "<caption>A data.frame: 6 × 9</caption>\n",
       "<thead>\n",
       "\t<tr><th></th><th scope=col>Pregnancies</th><th scope=col>Glucose</th><th scope=col>BloodPressure</th><th scope=col>SkinThickness</th><th scope=col>Insulin</th><th scope=col>BMI</th><th scope=col>DiabetesPedigreeFunction</th><th scope=col>Age</th><th scope=col>Outcome</th></tr>\n",
       "\t<tr><th></th><th scope=col>&lt;int&gt;</th><th scope=col>&lt;int&gt;</th><th scope=col>&lt;int&gt;</th><th scope=col>&lt;int&gt;</th><th scope=col>&lt;int&gt;</th><th scope=col>&lt;dbl&gt;</th><th scope=col>&lt;dbl&gt;</th><th scope=col>&lt;int&gt;</th><th scope=col>&lt;int&gt;</th></tr>\n",
       "</thead>\n",
       "<tbody>\n",
       "\t<tr><th scope=row>1</th><td>6</td><td>148</td><td>72</td><td>35</td><td>  0</td><td>33.6</td><td>0.627</td><td>50</td><td>1</td></tr>\n",
       "\t<tr><th scope=row>2</th><td>1</td><td> 85</td><td>66</td><td>29</td><td>  0</td><td>26.6</td><td>0.351</td><td>31</td><td>0</td></tr>\n",
       "\t<tr><th scope=row>3</th><td>8</td><td>183</td><td>64</td><td> 0</td><td>  0</td><td>23.3</td><td>0.672</td><td>32</td><td>1</td></tr>\n",
       "\t<tr><th scope=row>4</th><td>1</td><td> 89</td><td>66</td><td>23</td><td> 94</td><td>28.1</td><td>0.167</td><td>21</td><td>0</td></tr>\n",
       "\t<tr><th scope=row>5</th><td>0</td><td>137</td><td>40</td><td>35</td><td>168</td><td>43.1</td><td>2.288</td><td>33</td><td>1</td></tr>\n",
       "\t<tr><th scope=row>6</th><td>5</td><td>116</td><td>74</td><td> 0</td><td>  0</td><td>25.6</td><td>0.201</td><td>30</td><td>0</td></tr>\n",
       "</tbody>\n",
       "</table>\n"
      ],
      "text/latex": [
       "A data.frame: 6 × 9\n",
       "\\begin{tabular}{r|lllllllll}\n",
       "  & Pregnancies & Glucose & BloodPressure & SkinThickness & Insulin & BMI & DiabetesPedigreeFunction & Age & Outcome\\\\\n",
       "  & <int> & <int> & <int> & <int> & <int> & <dbl> & <dbl> & <int> & <int>\\\\\n",
       "\\hline\n",
       "\t1 & 6 & 148 & 72 & 35 &   0 & 33.6 & 0.627 & 50 & 1\\\\\n",
       "\t2 & 1 &  85 & 66 & 29 &   0 & 26.6 & 0.351 & 31 & 0\\\\\n",
       "\t3 & 8 & 183 & 64 &  0 &   0 & 23.3 & 0.672 & 32 & 1\\\\\n",
       "\t4 & 1 &  89 & 66 & 23 &  94 & 28.1 & 0.167 & 21 & 0\\\\\n",
       "\t5 & 0 & 137 & 40 & 35 & 168 & 43.1 & 2.288 & 33 & 1\\\\\n",
       "\t6 & 5 & 116 & 74 &  0 &   0 & 25.6 & 0.201 & 30 & 0\\\\\n",
       "\\end{tabular}\n"
      ],
      "text/markdown": [
       "\n",
       "A data.frame: 6 × 9\n",
       "\n",
       "| <!--/--> | Pregnancies &lt;int&gt; | Glucose &lt;int&gt; | BloodPressure &lt;int&gt; | SkinThickness &lt;int&gt; | Insulin &lt;int&gt; | BMI &lt;dbl&gt; | DiabetesPedigreeFunction &lt;dbl&gt; | Age &lt;int&gt; | Outcome &lt;int&gt; |\n",
       "|---|---|---|---|---|---|---|---|---|---|\n",
       "| 1 | 6 | 148 | 72 | 35 |   0 | 33.6 | 0.627 | 50 | 1 |\n",
       "| 2 | 1 |  85 | 66 | 29 |   0 | 26.6 | 0.351 | 31 | 0 |\n",
       "| 3 | 8 | 183 | 64 |  0 |   0 | 23.3 | 0.672 | 32 | 1 |\n",
       "| 4 | 1 |  89 | 66 | 23 |  94 | 28.1 | 0.167 | 21 | 0 |\n",
       "| 5 | 0 | 137 | 40 | 35 | 168 | 43.1 | 2.288 | 33 | 1 |\n",
       "| 6 | 5 | 116 | 74 |  0 |   0 | 25.6 | 0.201 | 30 | 0 |\n",
       "\n"
      ],
      "text/plain": [
       "  Pregnancies Glucose BloodPressure SkinThickness Insulin BMI \n",
       "1 6           148     72            35              0     33.6\n",
       "2 1            85     66            29              0     26.6\n",
       "3 8           183     64             0              0     23.3\n",
       "4 1            89     66            23             94     28.1\n",
       "5 0           137     40            35            168     43.1\n",
       "6 5           116     74             0              0     25.6\n",
       "  DiabetesPedigreeFunction Age Outcome\n",
       "1 0.627                    50  1      \n",
       "2 0.351                    31  0      \n",
       "3 0.672                    32  1      \n",
       "4 0.167                    21  0      \n",
       "5 2.288                    33  1      \n",
       "6 0.201                    30  0      "
      ]
     },
     "metadata": {},
     "output_type": "display_data"
    },
    {
     "data": {
      "text/html": [
       "<table class=\"dataframe\">\n",
       "<caption>A data.frame: 6 × 9</caption>\n",
       "<thead>\n",
       "\t<tr><th></th><th scope=col>Pregnancies</th><th scope=col>Glucose</th><th scope=col>BloodPressure</th><th scope=col>SkinThickness</th><th scope=col>Insulin</th><th scope=col>BMI</th><th scope=col>DiabetesPedigreeFunction</th><th scope=col>Age</th><th scope=col>Outcome</th></tr>\n",
       "\t<tr><th></th><th scope=col>&lt;int&gt;</th><th scope=col>&lt;int&gt;</th><th scope=col>&lt;int&gt;</th><th scope=col>&lt;int&gt;</th><th scope=col>&lt;int&gt;</th><th scope=col>&lt;dbl&gt;</th><th scope=col>&lt;dbl&gt;</th><th scope=col>&lt;int&gt;</th><th scope=col>&lt;int&gt;</th></tr>\n",
       "</thead>\n",
       "<tbody>\n",
       "\t<tr><th scope=row>1</th><td> 9</td><td>120</td><td>72</td><td>22</td><td> 56</td><td>20.8</td><td>0.733</td><td>48</td><td>0</td></tr>\n",
       "\t<tr><th scope=row>2</th><td> 1</td><td> 71</td><td>62</td><td> 0</td><td>  0</td><td>21.8</td><td>0.416</td><td>26</td><td>0</td></tr>\n",
       "\t<tr><th scope=row>3</th><td> 8</td><td> 74</td><td>70</td><td>40</td><td> 49</td><td>35.3</td><td>0.705</td><td>39</td><td>0</td></tr>\n",
       "\t<tr><th scope=row>4</th><td> 5</td><td> 88</td><td>78</td><td>30</td><td>  0</td><td>27.6</td><td>0.258</td><td>37</td><td>0</td></tr>\n",
       "\t<tr><th scope=row>5</th><td>10</td><td>115</td><td>98</td><td> 0</td><td>  0</td><td>24.0</td><td>1.022</td><td>34</td><td>0</td></tr>\n",
       "\t<tr><th scope=row>6</th><td> 0</td><td>124</td><td>56</td><td>13</td><td>105</td><td>21.8</td><td>0.452</td><td>21</td><td>0</td></tr>\n",
       "</tbody>\n",
       "</table>\n"
      ],
      "text/latex": [
       "A data.frame: 6 × 9\n",
       "\\begin{tabular}{r|lllllllll}\n",
       "  & Pregnancies & Glucose & BloodPressure & SkinThickness & Insulin & BMI & DiabetesPedigreeFunction & Age & Outcome\\\\\n",
       "  & <int> & <int> & <int> & <int> & <int> & <dbl> & <dbl> & <int> & <int>\\\\\n",
       "\\hline\n",
       "\t1 &  9 & 120 & 72 & 22 &  56 & 20.8 & 0.733 & 48 & 0\\\\\n",
       "\t2 &  1 &  71 & 62 &  0 &   0 & 21.8 & 0.416 & 26 & 0\\\\\n",
       "\t3 &  8 &  74 & 70 & 40 &  49 & 35.3 & 0.705 & 39 & 0\\\\\n",
       "\t4 &  5 &  88 & 78 & 30 &   0 & 27.6 & 0.258 & 37 & 0\\\\\n",
       "\t5 & 10 & 115 & 98 &  0 &   0 & 24.0 & 1.022 & 34 & 0\\\\\n",
       "\t6 &  0 & 124 & 56 & 13 & 105 & 21.8 & 0.452 & 21 & 0\\\\\n",
       "\\end{tabular}\n"
      ],
      "text/markdown": [
       "\n",
       "A data.frame: 6 × 9\n",
       "\n",
       "| <!--/--> | Pregnancies &lt;int&gt; | Glucose &lt;int&gt; | BloodPressure &lt;int&gt; | SkinThickness &lt;int&gt; | Insulin &lt;int&gt; | BMI &lt;dbl&gt; | DiabetesPedigreeFunction &lt;dbl&gt; | Age &lt;int&gt; | Outcome &lt;int&gt; |\n",
       "|---|---|---|---|---|---|---|---|---|---|\n",
       "| 1 |  9 | 120 | 72 | 22 |  56 | 20.8 | 0.733 | 48 | 0 |\n",
       "| 2 |  1 |  71 | 62 |  0 |   0 | 21.8 | 0.416 | 26 | 0 |\n",
       "| 3 |  8 |  74 | 70 | 40 |  49 | 35.3 | 0.705 | 39 | 0 |\n",
       "| 4 |  5 |  88 | 78 | 30 |   0 | 27.6 | 0.258 | 37 | 0 |\n",
       "| 5 | 10 | 115 | 98 |  0 |   0 | 24.0 | 1.022 | 34 | 0 |\n",
       "| 6 |  0 | 124 | 56 | 13 | 105 | 21.8 | 0.452 | 21 | 0 |\n",
       "\n"
      ],
      "text/plain": [
       "  Pregnancies Glucose BloodPressure SkinThickness Insulin BMI \n",
       "1  9          120     72            22             56     20.8\n",
       "2  1           71     62             0              0     21.8\n",
       "3  8           74     70            40             49     35.3\n",
       "4  5           88     78            30              0     27.6\n",
       "5 10          115     98             0              0     24.0\n",
       "6  0          124     56            13            105     21.8\n",
       "  DiabetesPedigreeFunction Age Outcome\n",
       "1 0.733                    48  0      \n",
       "2 0.416                    26  0      \n",
       "3 0.705                    39  0      \n",
       "4 0.258                    37  0      \n",
       "5 1.022                    34  0      \n",
       "6 0.452                    21  0      "
      ]
     },
     "metadata": {},
     "output_type": "display_data"
    }
   ],
   "source": [
    "#reading in training data\n",
    "url <- \"https://raw.githubusercontent.com/nityag11/DSCI-100-group17-project/main/Training%20(1).csv\"\n",
    "download.file(url, \"Training%20(1).csv\")\n",
    "training_data <- read.csv(\"Training%20(1).csv\")\n",
    "head(training_data)\n",
    "\n",
    "#reading in testing data\n",
    "url <- \"https://raw.githubusercontent.com/nityag11/DSCI-100-group17-project/main/Testing.csv\"\n",
    "download.file(url, \"Testing.csv\")\n",
    "testing_data <- read.csv(\"Testing.csv\")\n",
    "head(testing_data)"
   ]
  },
  {
   "cell_type": "markdown",
   "id": "2066e1f4-0ee2-4f74-a7a6-785467db2319",
   "metadata": {},
   "source": [
    "#### 2. Ensuring the data is in a tidy format\n",
    "Tidy data refers to a dataset where every variable is in its own column, each observation is in its own row and each value has its own cell. By inspecting the data frames above, we determine that the training and testing datasets are already tidy. "
   ]
  },
  {
   "cell_type": "markdown",
   "id": "d361c8da-295b-4725-80bf-d31c9bac72e2",
   "metadata": {},
   "source": [
    "#### 3. Summarizing the data to select the predictor variables\n",
    "Our next step is to wrangle the datasets so that they only contain the variables of interest. In our case, these are BMI, Blood Pressure, Age, and the Outcome. This will be done through the select function. The Outcome variable will be renamed to Diabetes_Outcome, and its values from 1 and 0 to \"yes\" and \"no\" for more clarity using the mutate and rename functions. "
   ]
  },
  {
   "cell_type": "code",
   "execution_count": 8,
   "id": "11ce25a1-fa98-453a-8e86-5c1bbf19ac92",
   "metadata": {},
   "outputs": [
    {
     "data": {
      "text/html": [
       "<table class=\"dataframe\">\n",
       "<caption>A data.frame: 6 × 4</caption>\n",
       "<thead>\n",
       "\t<tr><th></th><th scope=col>BMI</th><th scope=col>Blood_Pressure</th><th scope=col>Age</th><th scope=col>Diabetes_Outcome</th></tr>\n",
       "\t<tr><th></th><th scope=col>&lt;dbl&gt;</th><th scope=col>&lt;int&gt;</th><th scope=col>&lt;int&gt;</th><th scope=col>&lt;fct&gt;</th></tr>\n",
       "</thead>\n",
       "<tbody>\n",
       "\t<tr><th scope=row>1</th><td>33.6</td><td>72</td><td>50</td><td>Yes</td></tr>\n",
       "\t<tr><th scope=row>2</th><td>26.6</td><td>66</td><td>31</td><td>No </td></tr>\n",
       "\t<tr><th scope=row>3</th><td>23.3</td><td>64</td><td>32</td><td>Yes</td></tr>\n",
       "\t<tr><th scope=row>4</th><td>28.1</td><td>66</td><td>21</td><td>No </td></tr>\n",
       "\t<tr><th scope=row>5</th><td>43.1</td><td>40</td><td>33</td><td>Yes</td></tr>\n",
       "\t<tr><th scope=row>6</th><td>25.6</td><td>74</td><td>30</td><td>No </td></tr>\n",
       "</tbody>\n",
       "</table>\n"
      ],
      "text/latex": [
       "A data.frame: 6 × 4\n",
       "\\begin{tabular}{r|llll}\n",
       "  & BMI & Blood\\_Pressure & Age & Diabetes\\_Outcome\\\\\n",
       "  & <dbl> & <int> & <int> & <fct>\\\\\n",
       "\\hline\n",
       "\t1 & 33.6 & 72 & 50 & Yes\\\\\n",
       "\t2 & 26.6 & 66 & 31 & No \\\\\n",
       "\t3 & 23.3 & 64 & 32 & Yes\\\\\n",
       "\t4 & 28.1 & 66 & 21 & No \\\\\n",
       "\t5 & 43.1 & 40 & 33 & Yes\\\\\n",
       "\t6 & 25.6 & 74 & 30 & No \\\\\n",
       "\\end{tabular}\n"
      ],
      "text/markdown": [
       "\n",
       "A data.frame: 6 × 4\n",
       "\n",
       "| <!--/--> | BMI &lt;dbl&gt; | Blood_Pressure &lt;int&gt; | Age &lt;int&gt; | Diabetes_Outcome &lt;fct&gt; |\n",
       "|---|---|---|---|---|\n",
       "| 1 | 33.6 | 72 | 50 | Yes |\n",
       "| 2 | 26.6 | 66 | 31 | No  |\n",
       "| 3 | 23.3 | 64 | 32 | Yes |\n",
       "| 4 | 28.1 | 66 | 21 | No  |\n",
       "| 5 | 43.1 | 40 | 33 | Yes |\n",
       "| 6 | 25.6 | 74 | 30 | No  |\n",
       "\n"
      ],
      "text/plain": [
       "  BMI  Blood_Pressure Age Diabetes_Outcome\n",
       "1 33.6 72             50  Yes             \n",
       "2 26.6 66             31  No              \n",
       "3 23.3 64             32  Yes             \n",
       "4 28.1 66             21  No              \n",
       "5 43.1 40             33  Yes             \n",
       "6 25.6 74             30  No              "
      ]
     },
     "metadata": {},
     "output_type": "display_data"
    },
    {
     "data": {
      "text/html": [
       "<table class=\"dataframe\">\n",
       "<caption>A data.frame: 6 × 4</caption>\n",
       "<thead>\n",
       "\t<tr><th></th><th scope=col>BMI</th><th scope=col>Blood_Pressure</th><th scope=col>Age</th><th scope=col>Diabetes_Outcome</th></tr>\n",
       "\t<tr><th></th><th scope=col>&lt;dbl&gt;</th><th scope=col>&lt;int&gt;</th><th scope=col>&lt;int&gt;</th><th scope=col>&lt;fct&gt;</th></tr>\n",
       "</thead>\n",
       "<tbody>\n",
       "\t<tr><th scope=row>1</th><td>20.8</td><td>72</td><td>48</td><td>No</td></tr>\n",
       "\t<tr><th scope=row>2</th><td>21.8</td><td>62</td><td>26</td><td>No</td></tr>\n",
       "\t<tr><th scope=row>3</th><td>35.3</td><td>70</td><td>39</td><td>No</td></tr>\n",
       "\t<tr><th scope=row>4</th><td>27.6</td><td>78</td><td>37</td><td>No</td></tr>\n",
       "\t<tr><th scope=row>5</th><td>24.0</td><td>98</td><td>34</td><td>No</td></tr>\n",
       "\t<tr><th scope=row>6</th><td>21.8</td><td>56</td><td>21</td><td>No</td></tr>\n",
       "</tbody>\n",
       "</table>\n"
      ],
      "text/latex": [
       "A data.frame: 6 × 4\n",
       "\\begin{tabular}{r|llll}\n",
       "  & BMI & Blood\\_Pressure & Age & Diabetes\\_Outcome\\\\\n",
       "  & <dbl> & <int> & <int> & <fct>\\\\\n",
       "\\hline\n",
       "\t1 & 20.8 & 72 & 48 & No\\\\\n",
       "\t2 & 21.8 & 62 & 26 & No\\\\\n",
       "\t3 & 35.3 & 70 & 39 & No\\\\\n",
       "\t4 & 27.6 & 78 & 37 & No\\\\\n",
       "\t5 & 24.0 & 98 & 34 & No\\\\\n",
       "\t6 & 21.8 & 56 & 21 & No\\\\\n",
       "\\end{tabular}\n"
      ],
      "text/markdown": [
       "\n",
       "A data.frame: 6 × 4\n",
       "\n",
       "| <!--/--> | BMI &lt;dbl&gt; | Blood_Pressure &lt;int&gt; | Age &lt;int&gt; | Diabetes_Outcome &lt;fct&gt; |\n",
       "|---|---|---|---|---|\n",
       "| 1 | 20.8 | 72 | 48 | No |\n",
       "| 2 | 21.8 | 62 | 26 | No |\n",
       "| 3 | 35.3 | 70 | 39 | No |\n",
       "| 4 | 27.6 | 78 | 37 | No |\n",
       "| 5 | 24.0 | 98 | 34 | No |\n",
       "| 6 | 21.8 | 56 | 21 | No |\n",
       "\n"
      ],
      "text/plain": [
       "  BMI  Blood_Pressure Age Diabetes_Outcome\n",
       "1 20.8 72             48  No              \n",
       "2 21.8 62             26  No              \n",
       "3 35.3 70             39  No              \n",
       "4 27.6 78             37  No              \n",
       "5 24.0 98             34  No              \n",
       "6 21.8 56             21  No              "
      ]
     },
     "metadata": {},
     "output_type": "display_data"
    }
   ],
   "source": [
    "#summarizing training data\n",
    "training_data_small <- training_data |>\n",
    "    select(BMI, BloodPressure, Age, Outcome) |>\n",
    "    mutate(Outcome = as_factor(Outcome)) |>\n",
    "    mutate(Outcome = fct_recode(Outcome, \"Yes\" = \"1\", \"No\" = \"0\")) |>\n",
    "    rename(Diabetes_Outcome = Outcome, Blood_Pressure = BloodPressure)\n",
    "head(training_data_small)\n",
    "\n",
    "#summarizing testing data\n",
    "testing_data_small <- testing_data |>\n",
    "    select(BMI, BloodPressure, Age, Outcome) |>\n",
    "    mutate(Outcome = as_factor(Outcome)) |>\n",
    "    mutate(Outcome = fct_recode(Outcome, \"Yes\" = \"1\", \"No\" = \"0\")) |>\n",
    "    rename(Diabetes_Outcome = Outcome, Blood_Pressure = BloodPressure)\n",
    "head(testing_data_small)"
   ]
  },
  {
   "cell_type": "markdown",
   "id": "0703d5d4-94c8-492c-9875-3be59a895dbc",
   "metadata": {},
   "source": [
    "#### 4. Perform exploratory data analysis and create a visualization\n",
    "Before proceeding with our formal classification, we will perform some exploratory analysis by checking for missing values, determing the mean of each predictor value, and creating histograms to visualize the distribution of each variable. \n",
    "\n",
    "To start, we will determine whether or not there are any missing values in the training and testing dataset using the map_df function, then create a table to clearly summarize the findings. "
   ]
  },
  {
   "cell_type": "code",
   "execution_count": 9,
   "id": "e4a13651-90dc-4a34-86a0-56fd056eb7cc",
   "metadata": {},
   "outputs": [
    {
     "name": "stderr",
     "output_type": "stream",
     "text": [
      "\u001b[1m\u001b[22m`summarise()` has grouped output by 'Age', 'BMI'. You can override using the\n",
      "`.groups` argument.\n"
     ]
    },
    {
     "data": {
      "text/html": [
       "<table class=\"dataframe\">\n",
       "<caption>A tibble: 3 × 2</caption>\n",
       "<thead>\n",
       "\t<tr><th scope=col>Predictors</th><th scope=col>Has NA</th></tr>\n",
       "\t<tr><th scope=col>&lt;chr&gt;</th><th scope=col>&lt;lgl&gt;</th></tr>\n",
       "</thead>\n",
       "<tbody>\n",
       "\t<tr><td>Age           </td><td>FALSE</td></tr>\n",
       "\t<tr><td>BMI           </td><td>FALSE</td></tr>\n",
       "\t<tr><td>Blood_Pressure</td><td>FALSE</td></tr>\n",
       "</tbody>\n",
       "</table>\n"
      ],
      "text/latex": [
       "A tibble: 3 × 2\n",
       "\\begin{tabular}{ll}\n",
       " Predictors & Has NA\\\\\n",
       " <chr> & <lgl>\\\\\n",
       "\\hline\n",
       "\t Age            & FALSE\\\\\n",
       "\t BMI            & FALSE\\\\\n",
       "\t Blood\\_Pressure & FALSE\\\\\n",
       "\\end{tabular}\n"
      ],
      "text/markdown": [
       "\n",
       "A tibble: 3 × 2\n",
       "\n",
       "| Predictors &lt;chr&gt; | Has NA &lt;lgl&gt; |\n",
       "|---|---|\n",
       "| Age            | FALSE |\n",
       "| BMI            | FALSE |\n",
       "| Blood_Pressure | FALSE |\n",
       "\n"
      ],
      "text/plain": [
       "  Predictors     Has NA\n",
       "1 Age            FALSE \n",
       "2 BMI            FALSE \n",
       "3 Blood_Pressure FALSE "
      ]
     },
     "metadata": {},
     "output_type": "display_data"
    },
    {
     "name": "stderr",
     "output_type": "stream",
     "text": [
      "\u001b[1m\u001b[22m`summarise()` has grouped output by 'Age', 'BMI'. You can override using the\n",
      "`.groups` argument.\n"
     ]
    },
    {
     "data": {
      "text/html": [
       "<table class=\"dataframe\">\n",
       "<caption>A tibble: 3 × 2</caption>\n",
       "<thead>\n",
       "\t<tr><th scope=col>Predictors</th><th scope=col>Has NA</th></tr>\n",
       "\t<tr><th scope=col>&lt;chr&gt;</th><th scope=col>&lt;lgl&gt;</th></tr>\n",
       "</thead>\n",
       "<tbody>\n",
       "\t<tr><td>Age           </td><td>FALSE</td></tr>\n",
       "\t<tr><td>BMI           </td><td>FALSE</td></tr>\n",
       "\t<tr><td>Blood_Pressure</td><td>FALSE</td></tr>\n",
       "</tbody>\n",
       "</table>\n"
      ],
      "text/latex": [
       "A tibble: 3 × 2\n",
       "\\begin{tabular}{ll}\n",
       " Predictors & Has NA\\\\\n",
       " <chr> & <lgl>\\\\\n",
       "\\hline\n",
       "\t Age            & FALSE\\\\\n",
       "\t BMI            & FALSE\\\\\n",
       "\t Blood\\_Pressure & FALSE\\\\\n",
       "\\end{tabular}\n"
      ],
      "text/markdown": [
       "\n",
       "A tibble: 3 × 2\n",
       "\n",
       "| Predictors &lt;chr&gt; | Has NA &lt;lgl&gt; |\n",
       "|---|---|\n",
       "| Age            | FALSE |\n",
       "| BMI            | FALSE |\n",
       "| Blood_Pressure | FALSE |\n",
       "\n"
      ],
      "text/plain": [
       "  Predictors     Has NA\n",
       "1 Age            FALSE \n",
       "2 BMI            FALSE \n",
       "3 Blood_Pressure FALSE "
      ]
     },
     "metadata": {},
     "output_type": "display_data"
    }
   ],
   "source": [
    "#checking for NAs in training dataset\n",
    "training_missing <- training_data_small |>\n",
    "    map_df(is.na) |>\n",
    "    group_by(Age, BMI, Blood_Pressure) |>\n",
    "    summarize()\n",
    "\n",
    "training_missing_table <- training_missing |>\n",
    "    pivot_longer(Age:Blood_Pressure, names_to = \"Predictors\", values_to = \"Has NA\")\n",
    "training_missing_table\n",
    "\n",
    "#checking for NAs in testing dataset\n",
    "testing_missing <- testing_data_small |>\n",
    "    map_df(is.na) |>\n",
    "    group_by(Age, BMI, Blood_Pressure) |>\n",
    "    summarize()\n",
    "\n",
    "testing_missing_table <- testing_missing |>\n",
    "    pivot_longer(Age:Blood_Pressure, names_to = \"Predictors\", values_to = \"Has NA\")\n",
    "testing_missing_table"
   ]
  },
  {
   "cell_type": "markdown",
   "id": "400cce9d-adb0-4fe3-b044-a392a58f01fa",
   "metadata": {},
   "source": [
    "By inspection of the above tables, it is clear that there are no missing values in the training and testing datasets. For further exploration, we will create a table of the mean of each predictor value in the training and testing set."
   ]
  },
  {
   "cell_type": "code",
   "execution_count": 14,
   "id": "0b26be4e-3874-4f78-a53e-08dc7428aec7",
   "metadata": {},
   "outputs": [
    {
     "data": {
      "text/html": [
       "<table class=\"dataframe\">\n",
       "<caption>A tibble: 3 × 2</caption>\n",
       "<thead>\n",
       "\t<tr><th scope=col>Predictors</th><th scope=col>Mean</th></tr>\n",
       "\t<tr><th scope=col>&lt;chr&gt;</th><th scope=col>&lt;dbl&gt;</th></tr>\n",
       "</thead>\n",
       "<tbody>\n",
       "\t<tr><td>Age           </td><td>32.82195</td></tr>\n",
       "\t<tr><td>BMI           </td><td>31.99045</td></tr>\n",
       "\t<tr><td>Blood_Pressure</td><td>68.91504</td></tr>\n",
       "</tbody>\n",
       "</table>\n"
      ],
      "text/latex": [
       "A tibble: 3 × 2\n",
       "\\begin{tabular}{ll}\n",
       " Predictors & Mean\\\\\n",
       " <chr> & <dbl>\\\\\n",
       "\\hline\n",
       "\t Age            & 32.82195\\\\\n",
       "\t BMI            & 31.99045\\\\\n",
       "\t Blood\\_Pressure & 68.91504\\\\\n",
       "\\end{tabular}\n"
      ],
      "text/markdown": [
       "\n",
       "A tibble: 3 × 2\n",
       "\n",
       "| Predictors &lt;chr&gt; | Mean &lt;dbl&gt; |\n",
       "|---|---|\n",
       "| Age            | 32.82195 |\n",
       "| BMI            | 31.99045 |\n",
       "| Blood_Pressure | 68.91504 |\n",
       "\n"
      ],
      "text/plain": [
       "  Predictors     Mean    \n",
       "1 Age            32.82195\n",
       "2 BMI            31.99045\n",
       "3 Blood_Pressure 68.91504"
      ]
     },
     "metadata": {},
     "output_type": "display_data"
    },
    {
     "data": {
      "text/html": [
       "<table class=\"dataframe\">\n",
       "<caption>A tibble: 3 × 2</caption>\n",
       "<thead>\n",
       "\t<tr><th scope=col>Predictors</th><th scope=col>Mean</th></tr>\n",
       "\t<tr><th scope=col>&lt;chr&gt;</th><th scope=col>&lt;dbl&gt;</th></tr>\n",
       "</thead>\n",
       "<tbody>\n",
       "\t<tr><td>Age           </td><td>33.73052</td></tr>\n",
       "\t<tr><td>BMI           </td><td>31.86591</td></tr>\n",
       "\t<tr><td>Blood_Pressure</td><td>69.50325</td></tr>\n",
       "</tbody>\n",
       "</table>\n"
      ],
      "text/latex": [
       "A tibble: 3 × 2\n",
       "\\begin{tabular}{ll}\n",
       " Predictors & Mean\\\\\n",
       " <chr> & <dbl>\\\\\n",
       "\\hline\n",
       "\t Age            & 33.73052\\\\\n",
       "\t BMI            & 31.86591\\\\\n",
       "\t Blood\\_Pressure & 69.50325\\\\\n",
       "\\end{tabular}\n"
      ],
      "text/markdown": [
       "\n",
       "A tibble: 3 × 2\n",
       "\n",
       "| Predictors &lt;chr&gt; | Mean &lt;dbl&gt; |\n",
       "|---|---|\n",
       "| Age            | 33.73052 |\n",
       "| BMI            | 31.86591 |\n",
       "| Blood_Pressure | 69.50325 |\n",
       "\n"
      ],
      "text/plain": [
       "  Predictors     Mean    \n",
       "1 Age            33.73052\n",
       "2 BMI            31.86591\n",
       "3 Blood_Pressure 69.50325"
      ]
     },
     "metadata": {},
     "output_type": "display_data"
    }
   ],
   "source": [
    "#creating table for mean of all training predictor variables\n",
    "training_mean <- training_data_small |>\n",
    "    select(Age, BMI, Blood_Pressure) |>\n",
    "    map_df(mean)\n",
    "\n",
    "training_mean_table <- training_mean |>\n",
    "    pivot_longer(Age:Blood_Pressure, names_to = \"Predictors\", values_to = \"Mean\")\n",
    "training_mean_table\n",
    "\n",
    "#creating table for mean of all testing predictor variables\n",
    "testing_mean <- testing_data_small |>\n",
    "    select(Age, BMI, Blood_Pressure) |>\n",
    "    map_df(mean)\n",
    "\n",
    "testing_mean_table <- testing_mean |>\n",
    "    pivot_longer(Age:Blood_Pressure, names_to = \"Predictors\", values_to = \"Mean\")\n",
    "testing_mean_table"
   ]
  },
  {
   "cell_type": "markdown",
   "id": "5ba03382-7d29-40fd-b074-b25932618c48",
   "metadata": {},
   "source": [
    "The tables above show us that the mean Age, BMI, and Blood Pressure for the training and testing data sets are similar values. To better visualize the full distribution of these variables in both data sets, we will create histogram plots for each predictor variable."
   ]
  },
  {
   "cell_type": "code",
   "execution_count": null,
   "id": "b885afc3-565f-4cf4-9164-cfb4a108abb1",
   "metadata": {},
   "outputs": [],
   "source": []
  }
 ],
 "metadata": {
  "kernelspec": {
   "display_name": "R",
   "language": "R",
   "name": "ir"
  },
  "language_info": {
   "codemirror_mode": "r",
   "file_extension": ".r",
   "mimetype": "text/x-r-source",
   "name": "R",
   "pygments_lexer": "r",
   "version": "4.3.1"
  }
 },
 "nbformat": 4,
 "nbformat_minor": 5
}
